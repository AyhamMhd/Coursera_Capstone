{
 "cells": [
  {
   "cell_type": "markdown",
   "metadata": {
    "button": false,
    "new_sheet": false,
    "run_control": {
     "read_only": false
    }
   },
   "source": [
    "<a href=\"www.linkedin.com/in/AyhamMhd\"><img src = \"data:image/png;base64,iVBORw0KGgoAAAANSUhEUgAAAWcAAACMCAMAAACXkphKAAABDlBMVEX+/v4VEyb///8AAABtxq9Yfr/sHGTwX1H3mjntRo0AABkAABt7eoAAABFvbnXS0tQKByCjo6ZUU1sAABX39/fe3d9JSFEAABAAAAw3NkFdwahFgMYQDiMAAAjrAGe1tLdCcLkGAB4YFij3XUiZmJz4oDXrAF3tPonk5OUlIzKNjJFuyq7Y2NnFxcdmZWzv7u/3lSj2kRftPIF2dXtZWGBcir3vVUaSkZasrK9CQUshHy80Mj66urxhf7vvYJr87/PZ7uj96935u4f5tXr4r2z948/S2+z0jXfybk/vW4TuTHvzmT/Fz+ZUhMDI5963bojAbIFLjLvGZHjsD1WZ1cX5hXn73dr74+vvZJzzi4LBO5aBAAAQjUlEQVR4nO2ce5vithWHjZTNJhiMwQyYxC71lGSBckkLXWCYpk0vaXpLek3b7/9FKt/PkY5kz+zObJvo98c++2DZOnp1dHx08TiOlUHsi1+xd23D90Dsi5989msL+qklMH/wgQX91MowW9BPrQKzBf20qjBb0E8pgNmCfjohzBb0U0nCbEE/jdhvJcwC9G8s6LctArMF/fZFYs5AW9JvURrMFvTblRazBf02ZcBsQb89GTFb0G9L7MvPTJgF6N9Z0G8u9uUPf27E/MlXn/7egn5TCcwvXphAf/LVD963oN9UGWYT6BTz+xb0G6rArAedY7ag30wVZh3oErMF/SYCmGnQNWYB+g8W9OOEMFOgIWYL+rGSMKugMWYL+nFif5IwC9B/NGG2oB8jAjMG/clLGbMF/XCRmCFoCrMF/VBpMNegacwW9MOkxVyC1mG2oB8iA+YctB6zBd1eRswpaBNmC7qtGjC/ePFnI2YLup3Y1x/9zIj5429eGzG//+lPP7egmyQwv/djE+iPv/nRy5dmzB++sqAblGJ+zwQ6w2wCLTB/aEE3KMdsAF1g1oPOMFvQZpWYtaA//kuBWQe6wJyCdixojWrMGtAAMw26wmxB6wUxk6ARZgo0wGxB64QxE6AlzCpohNmCpiVjVkArmBXQGLMFTUnFLIEmMEugZcwWtCoKMwJNYkagVcwWtCwaMwCtwQxAU5gtaCwd5gq0FnMFmsYsQH9oQZfSYy5AGzAXoHWYLehaJswZ6I//ZsCcgdZjtqBLmTEL0H81Y3758u8mzCnoX1jQgvM/zJw/+vqfr42YX3/771dm0P+ynJ0m0B/9kjEj6NffMva5CfQr6865TKAFZoex/+hBC8yOEbTFXEkPOsXsmECnmB0TaIsZSAc6x2wAnWNOC2hitMWMRIMuMWtBl5i1oC1mSRToGrMGdI2ZBv3KYlakgoaYSdAQMwXaYqYkg8aYCdAYswraYqaFQcuYFdCvFYoYtMWsEwStYpZAq5gxaItZrxo0hRmBpjBD0HZRw6QSNI05LVCApjHXoC1ms3LQWswlaB3mErTF3KQUtAFzDlqPOQdtMTdLgDZhzkAbKaagLeZmsXEDJNZAkTkWcxs1QmoqYI+KWllZWVlZfU/EMr1rK77Tyglv5usRb8qFrR4txpbbhbfiPAx8y/nJxG44j/tu1EllOT+ZBOdOJcv5yWQ5P48s5+eR5fw8spyfR//HnBlSq4LkrW1/bG8NdU3ibHxom5aZjTXbarZWLugMhr3jZTabHHvD7dhg88157R2P3vq8KQqx/abWsrhPOsVT3LsZHkaz62R3utfWkBccb4frg3dYL+5vSNSI8765ZbuJaNkut7lxBb+4b7DwJtfZ6DDcGO/JkZQV3Bjb5cyPnPe7iR9FftLtcz5b7Iny4om9QEzB3CRxg5AH66wQO/Fau5KzB370suPD40XC+67vR74bxHwy13bleHjhfBq4rhv0Y84niyX0snn2yA5QXdGWKc86j8Sz8pa5wVQYOFdJsAEwlmdtYkM/NTbyfbfP/YV2e0UgWbspkryCkPd7G13DxmseJx0kv8+9pVRePHLCu1FdKAp4TxjAFv3qJ9crOfe61Y/dXnoafsj7Eawh7p4pgxhb86kv2XIdVvtE7D7s6MQHDD9q3+Ohj8skMV+P5ZYN4PAQF9nWDWFDp/GcZCdG6IgHsFmdqMsvA9JHhzygjHb5GhVnrMd9uVDQFc9swZk5Ey7fG/HZUo0Im6QvFxRFwxTOAzkzp8e7VLGALzAImbPo6gjfEvEe5RPOgSfq833uKf7P9hcFQKnpag+O/u5XBABhwLwN5/Ed1WKf38sD/V5uYQ1nyB7EmQ26pP+kCleoh2XOHoGEe6pP3PiaGgJ/qYyYRGu24FAZzpbyAKwMmA+bOd9qaingVeZstZ0uymYu1ZIzE28NTY/lLbtHXYI4H+IWpmbGamuIpKFlKIqKs32sLRiP6h4gObu9kau7mcPAx/YGzEWe3I4z7ZOo7AKMVcg5GGru5HvsE/emGiJ+o3k+qSQospw7jTenApdIzp3EcDPfAHuO2v4QUWzxgLjBPNInUeEaNOagizaup401hKJ+NX0S7mP05jSjyPuQedpQp7EFcTZW4VbvDJQVd6JE5EqwHGvPWbzImmuuQ0ezv+U3wNfVWD/Ac7mj0hh2lfxMNM2FP0U8D+eqHZEbBF3CS82c/S5xV1C9ydm67s2Id467UcLD0sPLANOGsxrm5ZblxatJVTvOfRChGQ6FQZ56o98qi0/Y4oAnR8+b8CoZqmIMu+K+c/mtd1r0LlzJQEycAz7rLdK7pLFRN/e2qsa/ZjM3tr/f8WmU/VAWmvMwDNEjpmGhgjMb43EqssLVLmsZDkv+TMtZ5Oy87uPyx0kdaVBw7sanTTon2nocTS+yESi9dHzeu8ln6JteYY/GPSLuFSXHCzlb0XP2eTp7zNitcR7u7sp3bV1NuTaUVnK+E9bXIWE5F1oA0NPzvFQZ5VDd8epcrIAMPFwzPzOSs8jsh9vNYC5nx9ypQgEMaXyXTe/Tf5Yr0Ddh5v/sAK0JZtVEW5A4pvVWs1g2gdb53UFdcjzBLq3l7K6W4Pkz5I9F3GObqrX+CIxQxu5XvP4hI7ak15Hy5+AwL2CyqtOWV1hz1GdUXIyCbfG48Qg1r8oh2Bm8ZmMwn2NsVrOKIia7c3CEM6R0jli/JlCjOlFnj0ruEDId52SGnz+CV4u4B4ZNtJIm0MMb/INpXZTtgE9FMbpT2DsFNYdngnM0rVrIcAYUV563qt3ZPaIKxmDCnnoqnMWlkUqydVuOKfH/IexUvpQQzKCzazhHyVi6CxhaxkkYnqYnaWYsmWfgjB2I30h3InJFf2LOcDVKpBVqt8CRp1YPXD1b2IEtlVLwrCX1WDgmdcn4LJXE3q7hrC6kobGdV4+sj0fGFUYT5yHw2FiexIkIi0Jrlr0jztXbMS9+AuO1TDhgYhSc5I5MqueLN6EDez1Yqy0CfQpKRnfqLB8SpTnDcFve5QG3yscjdsSET+4d7TK4iTN4m0jxJ78OU4X+QuHcR12Daqo4g/xLcVHYCXzpwDTUuPODHLav+Ae2hOYcy+4s219M9e5QOubH3NvSpA2cmQMuhdRyJqSUewBe39jgblNbL/LG+gEXZcCAh4X3DqCeHA2YcVanBhjppUBy5tR67K1yFxqj+QUNahPngeEVmZeA7xuucpaWMUDrSs6geLBgisDVk7Pz5dt1nM+152eZilIALhlRnImwIRXIJwDkMpLLuydlb8fEeV6bqzpbVmIpU1XW+WHpiQIKVhFdZ4rqjkk85wJCzMDIGSQmpOfDFw/JmQr/yKvKMMoW1Pw33baRUzcDZzCF6VKL8zgUZFHioZxhqhapAhcnzgo8Wd3WgBWB0eweKGL3dSZDcibHC1yniNzyrhG1l5BO2fEel4kzCIj9Bc35ilPcB3Net1xVE97u3IInt+ZMOkgj5ynJeQsy07CaKo4065kcT6QMnJs6GKOLn5Rzp/M4zhp/rj3zIf5cE638OduFpRergwtof1vOGn++1FU8rT8LzrPW8XnYGJ8b9q008bmO6jDNTTfVydX+YNeO87o5PoOZyuPic2vOt86xvn0qz/GwVfDt2iUzh5oLyZnuHTXfKC6wzY6HiWoz2NIzcQb9p8k3xm+ab5zBjDPyDXKvDgWH5ozyZyLEEJlwm/yZyrpL0unpltiV9/ZXrTjDuE/nz6hBav7czBlUEV2PI4M85wyTddPXzHg+qEY8tCyh4UzMB+FT5TWCbNn5/hBIR1DqmZqJM0zCyZHKDrWL5SPpoZyB7WJuYJQD6YTmwAEcpNylg5fhSoVmH1YNHHheLh/jyFGzwTqAu3D1+9S4vgGGV9Qh5pIwbATq+kYzZ4e1XbOQ6QWqQ4O1a7ieO5UdGq+86dbr5DctXuXjYMEX28DmQd3M7qEVZ5gNKOY6eH+DWK9rwxm4FpnTwNcNBNHdyRzYsEpY4cRbXWZB66va9edbR7oLrlpH14rfVj7Hw8ad6vnujuYsLUjgxWSlh2F0LpYfH8wZ5qSx6tAMrnZukDnqWbpwV273oGWHKIQoGJugfRPdfoo7wfspaBcmKF2COenpLol0/XLXcQanY7J/Yc9Hsl+gXgjVhaFWnOHM3ZV9VADrgG0KmK0Xe4mVucuZaFzolaDhQr+w/L7e6VtepW1A3f5gF+4/SruK9Yb3IejEqy3u8vrl7tJxw/WKTVC2zE8szZX9waph7Iyuxc6jOOPYFPckH92GPj/UleLNx253WO5n3hTbwrFHblN2+KTYp1wqkzfTfvepeP54GKOJSPWWzOuJ+GVbnwZn4EGV30vhPe6lO+nL+bHc0F3hNOVSbquy7Qy1pNxteThnNMTD0R5s9e6zwwXhqAaNT1lFUz5aD8+LQ6eaj1WgJxinz/mx19vdqgd6zec3JuvhcD2ST32UI5uxYqnL5+56UKIBp93qtATlDMJHskMqYVJylvzC5/HuNByedhy7RX0m5KGchUPD7dyE9wp70yMcOb3gWsZtydi04qA/DeD0oACNc4r80d2uPI9I1XAeKej3A3n5oopvrFd1QBRwPukthguvC9oDEgtGHkoq34isN5WuuMG0HyRycfI8UjvOrINaL3p6dtxN7ng9VJOoerzpFGyuuNjpWDceCyza8/DzddWRmI3khd2gjzodZuH4lVGq4sxmhgORVel6R//BnBVr0z39xMf7bvXZHnJdHZWNi6F40RsOn05zNp34K+eKTNodJEqCFA2fdahK7KuhGhmOqBaF69WtR3B28BuVrqHuyIZzlb5besj4LtGUcSdg+YrkHF0MRw8X9dg1o+nCSSV9UhrMd/ZRg0cDzI/i3Oyk8GA6O5kKd+9qw8crOhAkt07jdxNr7ZFs6FSGLzg6aRjByxg7giOYsbDxTI7RUBE6nf8ozmJMmY414xrSGK0/az+C8xpnRGEI7sZtvk+ZkyZJrRVDkd62EkpC6RwUdXYbHVAWUy0thiDAnzU8irO4Lda+hFx57Sw9tEgO2K40NUtTLPmxET867b63GkzVtfGws5FsGa/zU7iK4qtyHIX45IPjo3+DO/osuJt9jvfmnIW9O5qdz4/KbDzL3mWfFomVp54F2x/QN4B+HKQfW7JFWG31BtrvB8cel9N16euyzJbx8FZaDRX1hMpsPIPTR30iTN7JqyjniGrZTvky8pGc076cKOaKfrxuVXuz0gfOyz+DE/nulPvqmYms4H5x5bFIt7IvVS/5jJYNV9dSq56Gc/qVp6gk+240SrohXw3lryWLKthgvUr/KE9aMP90dnYm18eZcwqyj3h9P+lOeX8t40sftt3Blol674iWqd/DgmtXcIlY/WM364BPy48FIrfPuUd9p1m1brHLnxhcDvqvlNN5Zfrp9aG32MLJJj6B7BCc02LO9rS73N1ej735UldDUcfiMLre3l4n3ul+bzAm/Sh9MpnsemfNR9hppWXLkknvrKl3DCTHBv210orN8HCZZlVcd4uB4fxlxWrc/CfhFKR0KZUz7hDTzY/54wnaUq1aZqiuhSnFtbGxkHRDc6FWIjm/Q729lr3LKohK/8c4f1dlOT+PLOfnkeX8PLKcn0eW8/PIcn4eWc7PI8v5ecR67m0p93vM+b+RQPHD0B6aKgAAAABJRU5ErkJggg==\" width = 400, align = \"center\"></a>\n",
    "\n",
    "<h1 align=center><font size = 5> Coursera Capstone</font></h1>"
   ]
  },
  {
   "cell_type": "markdown",
   "metadata": {
    "button": false,
    "new_sheet": false,
    "run_control": {
     "read_only": false
    }
   },
   "source": [
    "In this notebook we try to fulfill Coursera Capstone project requirements"
   ]
  },
  {
   "cell_type": "markdown",
   "metadata": {},
   "source": [
    "### First importing prereqisites Pandas & Numpy"
   ]
  },
  {
   "cell_type": "code",
   "execution_count": 4,
   "metadata": {
    "button": false,
    "new_sheet": false,
    "run_control": {
     "read_only": false
    }
   },
   "outputs": [],
   "source": [
    "import pandas as pd\n",
    "import numpy as np"
   ]
  },
  {
   "cell_type": "markdown",
   "metadata": {
    "button": false,
    "new_sheet": false,
    "run_control": {
     "read_only": false
    }
   },
   "source": [
    "### Lets Start By a traditional welcome message"
   ]
  },
  {
   "cell_type": "code",
   "execution_count": 7,
   "metadata": {
    "button": false,
    "new_sheet": false,
    "run_control": {
     "read_only": false
    }
   },
   "outputs": [
    {
     "name": "stdout",
     "output_type": "stream",
     "text": [
      "Hello Capstone Project Course!\n"
     ]
    }
   ],
   "source": [
    "print(\"Hello Capstone Project Course!\")"
   ]
  },
  {
   "cell_type": "markdown",
   "metadata": {
    "button": false,
    "new_sheet": false,
    "run_control": {
     "read_only": false
    }
   },
   "source": [
    "### Please Note that this is just initializing, Thanks a lot!\n",
    "\n",
    "Notebook created by: <a href = \"www.linkedin.com/in/AyhamMhd\">Ayham Mhd</a>"
   ]
  },
  {
   "cell_type": "code",
   "execution_count": null,
   "metadata": {},
   "outputs": [],
   "source": []
  }
 ],
 "metadata": {
  "kernelspec": {
   "display_name": "Python",
   "language": "python",
   "name": "conda-env-python-py"
  },
  "language_info": {
   "codemirror_mode": {
    "name": "ipython",
    "version": 3
   },
   "file_extension": ".py",
   "mimetype": "text/x-python",
   "name": "python",
   "nbconvert_exporter": "python",
   "pygments_lexer": "ipython3",
   "version": "3.6.10"
  }
 },
 "nbformat": 4,
 "nbformat_minor": 4
}
